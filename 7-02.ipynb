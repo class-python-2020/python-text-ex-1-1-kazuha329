{
 "metadata": {
  "language_info": {
   "codemirror_mode": {
    "name": "ipython",
    "version": 3
   },
   "file_extension": ".py",
   "mimetype": "text/x-python",
   "name": "python",
   "nbconvert_exporter": "python",
   "pygments_lexer": "ipython3",
   "version": "3.8.2-final"
  },
  "orig_nbformat": 2,
  "kernelspec": {
   "name": "python38232bit6cd919a9dc0244fbbbf46f4f5a53c7ce",
   "display_name": "Python 3.8.2 32-bit"
  }
 },
 "nbformat": 4,
 "nbformat_minor": 2,
 "cells": [
  {
   "cell_type": "code",
   "execution_count": 1,
   "metadata": {},
   "outputs": [
    {
     "output_type": "error",
     "ename": "IndentationError",
     "evalue": "expected an indented block (<ipython-input-1-e33a78f2273e>, line 7)",
     "traceback": [
      "\u001b[1;36m  File \u001b[1;32m\"<ipython-input-1-e33a78f2273e>\"\u001b[1;36m, line \u001b[1;32m7\u001b[0m\n\u001b[1;33m    print('FileNotoFoundError:', sys.exc_info())\u001b[0m\n\u001b[1;37m    ^\u001b[0m\n\u001b[1;31mIndentationError\u001b[0m\u001b[1;31m:\u001b[0m expected an indented block\n"
     ]
    }
   ],
   "source": [
    "import sys\n",
    "try:\n",
    "    with open('test1.txt') as f:\n",
    "        s = f.readline()\n",
    "    print(s)\n",
    "except FileNotFoundError:\n",
    "print('FileNotoFoundError:', sys.exc_info())\n",
    "except I0Error:\n",
    "    print('I0Error:', sys.exc_info())\n",
    "except ValueError:\n",
    "    print('ValueError:', sys.exc_info())\n",
    "except 0SError as err:\n",
    "    print('0SError:', sys.exc_info())\n",
    "    pirnt('err:',err)\n",
    "except:\n",
    "    print('Unexpected Error:', sys.exc_info())"
   ]
  },
  {
   "cell_type": "code",
   "execution_count": 2,
   "metadata": {},
   "outputs": [
    {
     "output_type": "error",
     "ename": "SyntaxError",
     "evalue": "invalid syntax (<ipython-input-2-52f93666362b>, line 5)",
     "traceback": [
      "\u001b[1;36m  File \u001b[1;32m\"<ipython-input-2-52f93666362b>\"\u001b[1;36m, line \u001b[1;32m5\u001b[0m\n\u001b[1;33m    except (FileNotFoundError, I0Error, ValueError,0SError) as err:\u001b[0m\n\u001b[1;37m                                                    ^\u001b[0m\n\u001b[1;31mSyntaxError\u001b[0m\u001b[1;31m:\u001b[0m invalid syntax\n"
     ]
    }
   ],
   "source": [
    "try:\n",
    "    with open('test1.txt') as f:\n",
    "        s = f.readline()\n",
    "    print(s)\n",
    "except (FileNotFoundError, I0Error, ValueError,0SError) as err:\n",
    "    print(':', sys.exc_info())\n",
    "    pirnt('err:', err)\n",
    "except:\n",
    "    print('Unexpected Error:', sys.exc_info())"
   ]
  },
  {
   "cell_type": "code",
   "execution_count": 3,
   "metadata": {
    "tags": []
   },
   "outputs": [
    {
     "output_type": "stream",
     "name": "stdout",
     "text": "FileNotFoundError: (<class 'FileNotFoundError'>, FileNotFoundError(2, 'No such file or directory'), <traceback object at 0x06DA2BC8>)\n"
    }
   ],
   "source": [
    "try:\n",
    "    with open('test.txt') as f:\n",
    "        s = f.readline()\n",
    "    print(s)\n",
    "except FileNotFoundError:\n",
    "    print('FileNotFoundError:', sys.exc_info())\n",
    "else:\n",
    "    print('Read File Complete')"
   ]
  },
  {
   "cell_type": "code",
   "execution_count": 4,
   "metadata": {
    "tags": []
   },
   "outputs": [
    {
     "output_type": "stream",
     "name": "stdout",
     "text": "module 'datetime' has no attribute 'datatime'\n"
    }
   ],
   "source": [
    "import datetime\n",
    "try:\n",
    "    raise Exception('RaiseTest', datetime.datatime.now())\n",
    "except Exception as inst:\n",
    "    print(inst)"
   ]
  },
  {
   "cell_type": "code",
   "execution_count": 6,
   "metadata": {
    "tags": []
   },
   "outputs": [
    {
     "output_type": "stream",
     "name": "stdout",
     "text": "Unexpected Error\nIndex Not Found\nSuccessfully\n"
    },
    {
     "output_type": "execute_result",
     "data": {
      "text/plain": "['b', 'c', 'd']"
     },
     "metadata": {},
     "execution_count": 6
    }
   ],
   "source": [
    "def list_del_nth(list_, index):\n",
    "    try:\n",
    "        del list_[index]\n",
    "    except IndexError:\n",
    "        print('Index Not Found')\n",
    "    except:\n",
    "        print('Unexpected Error')\n",
    "    else:\n",
    "        print('Successfully')\n",
    "\n",
    "my_list = ['a', 'b', 'c', 'd']\n",
    "list_del_nth(my_list, '5')\n",
    "list_del_nth(my_list, 5)\n",
    "list_del_nth(my_list, 0)\n",
    "\n",
    "my_list"
   ]
  },
  {
   "cell_type": "code",
   "execution_count": 7,
   "metadata": {
    "tags": []
   },
   "outputs": [
    {
     "output_type": "stream",
     "name": "stdout",
     "text": "4\n"
    },
    {
     "output_type": "error",
     "ename": "AttributeError",
     "evalue": "'str' object has no attribute 'isdingit'",
     "traceback": [
      "\u001b[1;31m---------------------------------------------------------------------------\u001b[0m",
      "\u001b[1;31mAttributeError\u001b[0m                            Traceback (most recent call last)",
      "\u001b[1;32m<ipython-input-7-1db293bdcafa>\u001b[0m in \u001b[0;36m<module>\u001b[1;34m\u001b[0m\n\u001b[0;32m      8\u001b[0m \u001b[1;33m\u001b[0m\u001b[0m\n\u001b[0;32m      9\u001b[0m \u001b[0mprint\u001b[0m\u001b[1;33m(\u001b[0m\u001b[0msquare\u001b[0m\u001b[1;33m(\u001b[0m\u001b[1;36m2\u001b[0m\u001b[1;33m)\u001b[0m\u001b[1;33m)\u001b[0m\u001b[1;33m\u001b[0m\u001b[1;33m\u001b[0m\u001b[0m\n\u001b[1;32m---> 10\u001b[1;33m \u001b[0mprint\u001b[0m\u001b[1;33m(\u001b[0m\u001b[0msquare\u001b[0m\u001b[1;33m(\u001b[0m\u001b[1;34m'a'\u001b[0m\u001b[1;33m)\u001b[0m\u001b[1;33m)\u001b[0m\u001b[1;33m\u001b[0m\u001b[1;33m\u001b[0m\u001b[0m\n\u001b[0m",
      "\u001b[1;32m<ipython-input-7-1db293bdcafa>\u001b[0m in \u001b[0;36msquare\u001b[1;34m(x)\u001b[0m\n\u001b[0;32m      1\u001b[0m \u001b[1;32mdef\u001b[0m \u001b[0msquare\u001b[0m\u001b[1;33m(\u001b[0m\u001b[0mx\u001b[0m\u001b[1;33m)\u001b[0m\u001b[1;33m:\u001b[0m\u001b[1;33m\u001b[0m\u001b[1;33m\u001b[0m\u001b[0m\n\u001b[0;32m      2\u001b[0m     \u001b[1;32mif\u001b[0m \u001b[1;32mnot\u001b[0m \u001b[0misinstance\u001b[0m\u001b[1;33m(\u001b[0m\u001b[0mx\u001b[0m\u001b[1;33m,\u001b[0m \u001b[1;33m(\u001b[0m\u001b[0mint\u001b[0m\u001b[1;33m,\u001b[0m \u001b[0mfloat\u001b[0m\u001b[1;33m)\u001b[0m\u001b[1;33m)\u001b[0m\u001b[1;33m:\u001b[0m\u001b[1;33m\u001b[0m\u001b[1;33m\u001b[0m\u001b[0m\n\u001b[1;32m----> 3\u001b[1;33m         \u001b[1;32mif\u001b[0m \u001b[0misinstance\u001b[0m\u001b[1;33m(\u001b[0m\u001b[0mx\u001b[0m\u001b[1;33m,\u001b[0m \u001b[0mstr\u001b[0m\u001b[1;33m)\u001b[0m \u001b[1;32mand\u001b[0m \u001b[0mx\u001b[0m\u001b[1;33m.\u001b[0m\u001b[0misdingit\u001b[0m\u001b[1;33m(\u001b[0m\u001b[1;33m)\u001b[0m\u001b[1;33m:\u001b[0m\u001b[1;33m\u001b[0m\u001b[1;33m\u001b[0m\u001b[0m\n\u001b[0m\u001b[0;32m      4\u001b[0m             \u001b[0mx\u001b[0m \u001b[1;33m=\u001b[0m \u001b[0mint\u001b[0m\u001b[1;33m(\u001b[0m\u001b[0mx\u001b[0m\u001b[1;33m)\u001b[0m\u001b[1;33m\u001b[0m\u001b[1;33m\u001b[0m\u001b[0m\n\u001b[0;32m      5\u001b[0m         \u001b[1;32melse\u001b[0m\u001b[1;33m:\u001b[0m\u001b[1;33m\u001b[0m\u001b[1;33m\u001b[0m\u001b[0m\n",
      "\u001b[1;31mAttributeError\u001b[0m: 'str' object has no attribute 'isdingit'"
     ]
    }
   ],
   "source": [
    "def square(x):\n",
    "    if not isinstance(x, (int, float)):\n",
    "        if isinstance(x, str) and x.isdingit():\n",
    "            x = int(x)\n",
    "        else:\n",
    "            raise ValueError('square', x)\n",
    "    return x ** x\n",
    "\n",
    "print(square(2))\n",
    "print(square('a'))"
   ]
  },
  {
   "cell_type": "code",
   "execution_count": 8,
   "metadata": {},
   "outputs": [
    {
     "output_type": "error",
     "ename": "SyntaxError",
     "evalue": "invalid syntax (<ipython-input-8-ade7517ebff5>, line 5)",
     "traceback": [
      "\u001b[1;36m  File \u001b[1;32m\"<ipython-input-8-ade7517ebff5>\"\u001b[1;36m, line \u001b[1;32m5\u001b[0m\n\u001b[1;33m    except LookupError:\u001b[0m\n\u001b[1;37m    ^\u001b[0m\n\u001b[1;31mSyntaxError\u001b[0m\u001b[1;31m:\u001b[0m invalid syntax\n"
     ]
    }
   ],
   "source": [
    "def indexerr_test_func():\n",
    "    try:\n",
    "        my_list = [0, 1, 2, 3]\n",
    "        val = my_list[5]\n",
    "        except LookupError:\n",
    "            print('indexerr_test_func LookupError exception')\n",
    "indexerr_test_func()"
   ]
  }
 ]
}