{
 "metadata": {
  "language_info": {
   "codemirror_mode": {
    "name": "ipython",
    "version": 3
   },
   "file_extension": ".py",
   "mimetype": "text/x-python",
   "name": "python",
   "nbconvert_exporter": "python",
   "pygments_lexer": "ipython3",
   "version": "3.8.2-final"
  },
  "orig_nbformat": 2,
  "kernelspec": {
   "name": "python38232bit6cd919a9dc0244fbbbf46f4f5a53c7ce",
   "display_name": "Python 3.8.2 32-bit"
  }
 },
 "nbformat": 4,
 "nbformat_minor": 2,
 "cells": [
  {
   "cell_type": "code",
   "execution_count": null,
   "metadata": {},
   "outputs": [],
   "source": [
    "def <関数名>(<引数>):\n",
    "    <式>\n",
    "    retrun <式>"
   ]
  },
  {
   "cell_type": "code",
   "execution_count": null,
   "metadata": {},
   "outputs": [],
   "source": [
    "lambda <引数>:<式>"
   ]
  },
  {
   "cell_type": "code",
   "execution_count": 2,
   "metadata": {
    "tags": []
   },
   "outputs": [
    {
     "output_type": "stream",
     "name": "stdout",
     "text": "100\n"
    }
   ],
   "source": [
    "def square(x):\n",
    "    \"\"\"与えられた数値の2乗を返す\"\"\"\n",
    "    return x ** 2\n",
    "\n",
    "print(square(10))"
   ]
  },
  {
   "cell_type": "code",
   "execution_count": 3,
   "metadata": {
    "tags": []
   },
   "outputs": [
    {
     "output_type": "stream",
     "name": "stdout",
     "text": "100\n"
    }
   ],
   "source": [
    "#与えられた数値の2乗を返す\n",
    "sq_func = lambda x: x ** 2\n",
    "\n",
    "print(sq_func(10))"
   ]
  },
  {
   "cell_type": "code",
   "execution_count": 4,
   "metadata": {
    "tags": []
   },
   "outputs": [
    {
     "output_type": "stream",
     "name": "stdout",
     "text": "文字列rスト: ['No.1', 'No.2', 'No.3', 'No.4', 'No.5', 'No.6', 'No.7', 'No.8', 'No.9', 'No.10']\n"
    }
   ],
   "source": [
    "i_num_list = range(1,11)\n",
    "s_num_list = list(map(lambda i: \"No.\" + str(i), i_num_list))\n",
    "print(\"文字列rスト:\", s_num_list)"
   ]
  },
  {
   "cell_type": "code",
   "execution_count": 5,
   "metadata": {
    "tags": []
   },
   "outputs": [
    {
     "output_type": "stream",
     "name": "stdout",
     "text": "No.1 No.2 No.3 No.4 No.5 No.6 No.7 No.8 No.9 No.10"
    }
   ],
   "source": [
    "#数値を文字に変換して装飾します\n",
    "for s in map(lambda i: \"No.\" + str(i), range(1,11)):\n",
    "    print(s,end=\" \")"
   ]
  },
  {
   "cell_type": "code",
   "execution_count": 6,
   "metadata": {
    "tags": []
   },
   "outputs": [
    {
     "output_type": "stream",
     "name": "stdout",
     "text": "2 4 6 8 10"
    }
   ],
   "source": [
    "#偶数だけ取得します\n",
    "for e in filter(lambda i: i%2==0, range(1,11)):\n",
    "    print(e, end=\" \")"
   ]
  },
  {
   "cell_type": "code",
   "execution_count": 9,
   "metadata": {
    "tags": []
   },
   "outputs": [
    {
     "output_type": "stream",
     "name": "stdout",
     "text": "2 4 6 8 10"
    }
   ],
   "source": [
    "def is_even(x):\n",
    "    \"\"\"偶数なら True\"\"\"\n",
    "    return x % 2 == 0\n",
    "\n",
    "#偶数だけ取得します\n",
    "for e in filter(is_even, range(1, 11)):\n",
    "    print(e, end=\" \")"
   ]
  },
  {
   "cell_type": "code",
   "execution_count": 16,
   "metadata": {
    "tags": []
   },
   "outputs": [
    {
     "output_type": "stream",
     "name": "stdout",
     "text": "[(2, 'down'), (1, 'up'), (4, 'cham'), (3, 'strange'), (6, 'top'), (5, 'bottom')]\n"
    }
   ],
   "source": [
    "pairs = [(2,'down'),(1,'up'),(4,'cham'),(3,'strange'),(6,'top'),(5,'bottom')]\n",
    "print(pairs)"
   ]
  },
  {
   "cell_type": "code",
   "execution_count": 17,
   "metadata": {
    "tags": []
   },
   "outputs": [
    {
     "output_type": "stream",
     "name": "stdout",
     "text": "[(1, 'up'), (2, 'down'), (3, 'strange'), (4, 'cham'), (5, 'bottom'), (6, 'top')]\n"
    }
   ],
   "source": [
    "pairs.sort()\n",
    "print(pairs)"
   ]
  },
  {
   "cell_type": "code",
   "execution_count": 18,
   "metadata": {
    "tags": []
   },
   "outputs": [
    {
     "output_type": "stream",
     "name": "stdout",
     "text": "[(5, 'bottom'), (4, 'cham'), (2, 'down'), (3, 'strange'), (6, 'top'), (1, 'up')]\n"
    }
   ],
   "source": [
    "pairs.sort(key=lambda x: x[1])\n",
    "print(pairs)"
   ]
  },
  {
   "cell_type": "code",
   "execution_count": 19,
   "metadata": {
    "tags": []
   },
   "outputs": [
    {
     "output_type": "stream",
     "name": "stdout",
     "text": "[(1, 'up'), (6, 'top'), (3, 'strange'), (2, 'down'), (4, 'cham'), (5, 'bottom')]\n"
    }
   ],
   "source": [
    "pairs.sort(key=lambda x: x[1], reverse=True)\n",
    "print(pairs)"
   ]
  },
  {
   "cell_type": "code",
   "execution_count": 20,
   "metadata": {},
   "outputs": [
    {
     "output_type": "execute_result",
     "data": {
      "text/plain": "'odd'"
     },
     "metadata": {},
     "execution_count": 20
    }
   ],
   "source": [
    "n = 3\n",
    "func = lambda n: \"even\" if (n % 2 == 0) else \"odd\"\n",
    "func(n)"
   ]
  },
  {
   "cell_type": "code",
   "execution_count": 21,
   "metadata": {
    "tags": []
   },
   "outputs": [
    {
     "output_type": "stream",
     "name": "stdout",
     "text": "odd\n"
    }
   ],
   "source": [
    "n = 3\n",
    "x = \"even\" if (n % 2 == 0) else \"odd\"\n",
    "print(x)"
   ]
  },
  {
   "cell_type": "code",
   "execution_count": 22,
   "metadata": {
    "tags": []
   },
   "outputs": [
    {
     "output_type": "stream",
     "name": "stdout",
     "text": "odd\n"
    }
   ],
   "source": [
    "n = 3\n",
    "if (n % 2 == 0):\n",
    "    x = \"even\"\n",
    "else:\n",
    "    x = \"odd\"\n",
    "print(x)"
   ]
  },
  {
   "cell_type": "code",
   "execution_count": 23,
   "metadata": {},
   "outputs": [
    {
     "output_type": "execute_result",
     "data": {
      "text/plain": "'0005'"
     },
     "metadata": {},
     "execution_count": 23
    }
   ],
   "source": [
    "\"{:04}\".format(5)"
   ]
  },
  {
   "cell_type": "code",
   "execution_count": 24,
   "metadata": {},
   "outputs": [
    {
     "output_type": "execute_result",
     "data": {
      "text/plain": "<map at 0xd2f310>"
     },
     "metadata": {},
     "execution_count": 24
    }
   ],
   "source": [
    "str_num_list = map(lambda x: \"{:04}\".format(x), range(1,8))\n",
    "str_num_list"
   ]
  },
  {
   "cell_type": "code",
   "execution_count": 25,
   "metadata": {
    "tags": []
   },
   "outputs": [
    {
     "output_type": "stream",
     "name": "stdout",
     "text": "['0001', '0002', '0003', '0004', '0005', '0006', '0007']\n"
    }
   ],
   "source": [
    "print(list(str_num_list))"
   ]
  },
  {
   "cell_type": "code",
   "execution_count": 26,
   "metadata": {
    "tags": []
   },
   "outputs": [
    {
     "output_type": "stream",
     "name": "stdout",
     "text": "['0001', '0002', '0003', '0004', '0005', '0006', '0007']\n"
    }
   ],
   "source": [
    "print([\"{:0=4}\".format(x) for x in range(1,8)])"
   ]
  },
  {
   "cell_type": "code",
   "execution_count": 27,
   "metadata": {
    "tags": []
   },
   "outputs": [
    {
     "output_type": "stream",
     "name": "stdout",
     "text": "<generator object <genexpr> at 0x00D6AE98>\n"
    }
   ],
   "source": [
    "print((\"{:0=4}\".format(x) for x in range(1,8)))"
   ]
  },
  {
   "cell_type": "code",
   "execution_count": 28,
   "metadata": {
    "tags": []
   },
   "outputs": [
    {
     "output_type": "stream",
     "name": "stdout",
     "text": "['0001', '0002', '0003', '0004', '0005', '0006', '0007']\n"
    }
   ],
   "source": [
    "print(list(\"{:0=4}\".format(x) for x in range(1,8)))"
   ]
  },
  {
   "cell_type": "code",
   "execution_count": 1,
   "metadata": {
    "tags": []
   },
   "outputs": [
    {
     "output_type": "stream",
     "name": "stdout",
     "text": "i, name, height, weight\n0 n23 154 53\n1 n27 185 50\n...\n9 n42 171 71\n"
    }
   ],
   "source": [
    "import random\n",
    "def generate_students_data(num_students=10):\n",
    "    \"\"\"生徒名、身長、体重からなるデータをランダムに生成する\n",
    "\n",
    "    引数: num_students: 生徒の人数を取る\n",
    "    戻り: num_students個のタプル（生徒名、身長、体重）からなるリスト\n",
    "\n",
    "    データの内容\n",
    "        生徒名　'nXX', XX　は10から50の番号\n",
    "        身長　150-190㎝からランダムに選んだ値\n",
    "        体重 50-80　㎏からランダムに選んだ値\n",
    "    \"\"\"\n",
    "    students_data = []\n",
    "    for i in range(num_students):\n",
    "        name = 'n' + str(random.randint(10,50))\n",
    "        height = random.randint(150,190)\n",
    "        weight = random.randint(50,80)\n",
    "        students_data.append((name, height, weight))\n",
    "        if i == 0: print('i, name, height, weight')\n",
    "        if i < 2 or i == num_students - 1:\n",
    "            print(i, name, height, weight)\n",
    "        elif i == 2:\n",
    "            print('...')\n",
    "    return students_data\n",
    "\n",
    "students_data = generate_students_data(10)"
   ]
  },
  {
   "cell_type": "code",
   "execution_count": 2,
   "metadata": {},
   "outputs": [
    {
     "output_type": "execute_result",
     "data": {
      "text/plain": "[('n23', 154, 53),\n ('n27', 185, 50),\n ('n24', 176, 79),\n ('n26', 158, 56),\n ('n42', 152, 80),\n ('n18', 190, 56),\n ('n38', 161, 67),\n ('n34', 180, 51),\n ('n45', 157, 61),\n ('n42', 171, 71)]"
     },
     "metadata": {},
     "execution_count": 2
    }
   ],
   "source": [
    "students_data"
   ]
  },
  {
   "cell_type": "code",
   "execution_count": 9,
   "metadata": {},
   "outputs": [],
   "source": [
    "students_by_height = sorted(students_data, key=lambda s: s[1])\n",
    "students_by_weight = sorted(students_data, key=lambda s: s[2])"
   ]
  },
  {
   "cell_type": "code",
   "execution_count": 4,
   "metadata": {
    "tags": []
   },
   "outputs": [
    {
     "output_type": "stream",
     "name": "stdout",
     "text": "\nSort by height\n('n27', 185, 50)\n('n34', 180, 51)\n('n23', 154, 53)\n('n26', 158, 56)\n('n18', 190, 56)\n('n45', 157, 61)\n('n38', 161, 67)\n('n42', 171, 71)\n('n24', 176, 79)\n('n42', 152, 80)\n"
    }
   ],
   "source": [
    "print('\\nSort by height')\n",
    "for student in students_by_height:\n",
    "    print(student)"
   ]
  },
  {
   "cell_type": "code",
   "execution_count": 10,
   "metadata": {
    "tags": []
   },
   "outputs": [
    {
     "output_type": "stream",
     "name": "stdout",
     "text": "\nSort by weight\n('n27', 185, 50)\n('n34', 180, 51)\n('n23', 154, 53)\n('n26', 158, 56)\n('n18', 190, 56)\n('n45', 157, 61)\n('n38', 161, 67)\n('n42', 171, 71)\n('n24', 176, 79)\n('n42', 152, 80)\n"
    }
   ],
   "source": [
    "print('\\nSort by weight')\n",
    "for student in students_by_weight:\n",
    "    print(student)"
   ]
  }
 ]
}